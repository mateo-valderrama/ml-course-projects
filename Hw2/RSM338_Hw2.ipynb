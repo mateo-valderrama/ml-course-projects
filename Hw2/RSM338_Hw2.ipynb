{
 "cells": [
  {
   "cell_type": "code",
   "execution_count": 8,
   "metadata": {},
   "outputs": [],
   "source": [
    "# Import the modules\n",
    "import pandas as pd\n",
    "import numpy as np\n",
    "from datetime import datetime\n",
    "from tqdm.notebook import tqdm\n",
    "import statsmodels.api as sm"
   ]
  },
  {
   "cell_type": "code",
   "execution_count": 7,
   "metadata": {},
   "outputs": [],
   "source": [
    "# Import Data\n",
    "df_monthly = pd.read_excel('PredictorData2023.xlsx',sheet_name=\"Monthly\")\n",
    "# Parse the dates properly\n",
    "time = [str(d) for d in df_monthly.yyyymm]\n",
    "df_monthly.index = pd.to_datetime(time,format=\"%Y%m\")"
   ]
  },
  {
   "cell_type": "code",
   "execution_count": 39,
   "metadata": {},
   "outputs": [],
   "source": [
    "# Variable construction\n",
    "df_monthly['ExRet'] = df_monthly['CRSP_SPvw']-df_monthly['Rfree']\n",
    "df_monthly['DP'] = np.log(df_monthly['D12'])-np.log(df_monthly['Index'])\n",
    "df_monthly['DY'] = np.log(df_monthly['D12'])-np.log(df_monthly['Index'].shift())\n",
    "df_monthly['EP'] = np.log(df_monthly['E12'])-np.log(df_monthly['Index'])\n",
    "df_monthly['DE'] = np.log(df_monthly['D12'])-np.log(df_monthly['E12'])\n",
    "df_monthly['tms'] = df_monthly['lty']-df_monthly['tbl']\n",
    "df_monthly['dfr'] = df_monthly['corpr']-df_monthly['ltr']\n",
    "df_monthly['dfy'] = df_monthly['BAA']-df_monthly['AAA']\n",
    "\n",
    "# infl needs to be lagged one more month\n",
    "df_monthly['infl'] = df_monthly['infl'].shift().copy()\n",
    "\n",
    "# Construction of dependent and independent variables\n",
    "dep_var = 'ExRet'\n",
    "indep_vars = ['DE','svar','dfr','lty','ltr','infl','tms','tbl','dfy','DP','DY','EP','b/m','ntis']\n",
    "\n",
    "# Use the data from 1926/12 to 2023/12\n",
    "subperiod = df_monthly.index>='1926-12-01'\n",
    "df = df_monthly[subperiod]\n",
    "M = 240 # Initial length of estimation window\n",
    "gam = 3 # risk aversion coefficient\n",
    "\n",
    "# Create the benchmark using historical average\n",
    "Hist_Mean = np.asarray(df[dep_var].expanding().mean().shift())\n",
    "Hist_Variance = np.asarray(df[dep_var].expanding().var().shift())\n",
    "\n",
    "# Benchmark SSE (Historical Average)\n",
    "OOS_SSE_Hist = np.sum((df[dep_var][M+1:]-Hist_Mean[M+1:])**2)\n",
    "\n",
    "# Benchmark Certainty Equivalence\n",
    "w0 = ((1/gam)*(Hist_Mean/Hist_Variance)).clip(None,1.5);\n",
    "r0 = df[dep_var]*w0\n",
    "CE_Hist = np.mean(r0[M+1:])-gam/2*np.var(r0[M+1:],ddof=1)"
   ]
  },
  {
   "cell_type": "markdown",
   "metadata": {},
   "source": [
    "### The following codes demonstrate how to compute OOS $R^2$ and CEV for one predictive regression (using DY)"
   ]
  },
  {
   "cell_type": "code",
   "execution_count": 40,
   "metadata": {},
   "outputs": [],
   "source": [
    "Y = np.asarray(df[dep_var])\n",
    "X = np.asarray(df['DY'])\n",
    "Y_Hat = np.full(len(Y), np.nan)\n",
    "X = sm.add_constant(X)\n",
    "# Note that we start the index at M+1 because the first element of predicted return is at t=M+2.\n",
    "for i in range(M+1,len(Y)):\n",
    "    Y1 = Y[1:i]\n",
    "    X1 = X[0:i-1,:] \n",
    "    reg = sm.OLS(Y1, X1, missing='drop').fit()\n",
    "    Y_Hat[i] = np.take(reg.predict(X[i-1,:]),0)       # The predicted value is based on the observation before\n"
   ]
  },
  {
   "cell_type": "code",
   "execution_count": 41,
   "metadata": {},
   "outputs": [],
   "source": [
    "OOS_SSE = np.sum((Y[M+1:]-Y_Hat[M+1:])**2)\n",
    "OOS_R2 = 1-OOS_SSE/OOS_SSE_Hist\n",
    "w1 = ((1/gam)*(Y_Hat/Hist_Variance)).clip(None,1.5);\n",
    "r1 = Y*w1\n",
    "CE = np.mean(r1[M+1:])-gam/2*np.var(r1[M+1:],ddof=1)"
   ]
  },
  {
   "cell_type": "markdown",
   "metadata": {},
   "source": [
    "### In-sample $R^2$ and out-of-sample $R^2$"
   ]
  },
  {
   "cell_type": "code",
   "execution_count": 42,
   "metadata": {},
   "outputs": [
    {
     "name": "stdout",
     "output_type": "stream",
     "text": [
      "IS R^2 =  0.359\n",
      "OOS R^2 = -0.973\n"
     ]
    }
   ],
   "source": [
    "reg1 = sm.OLS(Y[1:],X[0:len(Y)-1,:],missing='drop').fit()\n",
    "IS_R2 = reg1.rsquared\n",
    "print(\"IS R^2 = %6.3f\"%(100.0*IS_R2))\n",
    "print(\"OOS R^2 = %6.3f\"%(100.0*OOS_R2))"
   ]
  },
  {
   "cell_type": "markdown",
   "metadata": {},
   "source": [
    "### $\\Delta CEV$"
   ]
  },
  {
   "cell_type": "code",
   "execution_count": 43,
   "metadata": {},
   "outputs": [
    {
     "name": "stdout",
     "output_type": "stream",
     "text": [
      "Difference in Certainty Equivalence = -0.1558\n"
     ]
    }
   ],
   "source": [
    "print('Difference in Certainty Equivalence = %7.4f'%(100*(CE-CE_Hist)))"
   ]
  },
  {
   "cell_type": "markdown",
   "metadata": {},
   "source": [
    "### OOS $R^2$ and CEV for all independent variables"
   ]
  },
  {
   "cell_type": "code",
   "execution_count": 44,
   "metadata": {},
   "outputs": [
    {
     "name": "stdout",
     "output_type": "stream",
     "text": [
      "DE IS R^2 =  0.005\n",
      "DE OOS R^2 = -0.654\n",
      "DE Difference in Certainty Equivalence =  0.0051\n",
      "svar IS R^2 =  0.019\n",
      "svar OOS R^2 = -0.608\n",
      "svar Difference in Certainty Equivalence = -0.0535\n",
      "dfr IS R^2 =  0.064\n",
      "dfr OOS R^2 = -0.341\n",
      "dfr Difference in Certainty Equivalence = -0.0135\n",
      "lty IS R^2 =  0.197\n",
      "lty OOS R^2 = -0.271\n",
      "lty Difference in Certainty Equivalence = -0.0715\n",
      "ltr IS R^2 =  0.203\n",
      "ltr OOS R^2 = -0.367\n",
      "ltr Difference in Certainty Equivalence =  0.0003\n",
      "infl IS R^2 =  0.138\n",
      "infl OOS R^2 = -0.026\n",
      "infl Difference in Certainty Equivalence = -0.0103\n",
      "tms IS R^2 =  0.129\n",
      "tms OOS R^2 =  0.050\n",
      "tms Difference in Certainty Equivalence =  0.0419\n",
      "tbl IS R^2 =  0.315\n",
      "tbl OOS R^2 =  0.240\n",
      "tbl Difference in Certainty Equivalence = -0.0123\n",
      "dfy IS R^2 =  0.254\n",
      "dfy OOS R^2 = -0.284\n",
      "dfy Difference in Certainty Equivalence = -0.0547\n",
      "DP IS R^2 =  0.275\n",
      "DP OOS R^2 = -0.341\n",
      "DP Difference in Certainty Equivalence = -0.1226\n",
      "DY IS R^2 =  0.359\n",
      "DY OOS R^2 = -0.973\n",
      "DY Difference in Certainty Equivalence = -0.1558\n",
      "EP IS R^2 =  0.297\n",
      "EP OOS R^2 = -1.539\n",
      "EP Difference in Certainty Equivalence = -0.1010\n",
      "b/m IS R^2 =  0.596\n",
      "b/m OOS R^2 = -2.208\n",
      "b/m Difference in Certainty Equivalence = -0.2111\n",
      "ntis IS R^2 =  0.460\n",
      "ntis OOS R^2 = -0.721\n",
      "ntis Difference in Certainty Equivalence =  0.0439\n"
     ]
    }
   ],
   "source": [
    "for variable in indep_vars:\n",
    "    Y = np.asarray(df[dep_var])\n",
    "    X = np.asarray(df[variable])\n",
    "    Y_hat = np.full(len(Y), np.nan)\n",
    "    X = sm.add_constant(X)\n",
    "\n",
    "    for i in range(M+1, len(Y)):\n",
    "        Y1 = Y[1:i]\n",
    "        X1 = X[0:i-1, :]\n",
    "        reg = sm.OLS(Y1, X1, missing='drop').fit()\n",
    "        Y_hat[i] = np.take(reg.predict(X[i-1, :]), 0)\n",
    "\n",
    "    OOS_SSE = np.sum((Y[M+1:]-Y_hat[M+1:])**2)\n",
    "    OOS_R2 = 1 - OOS_SSE/OOS_SSE_Hist\n",
    "    w1 = ((1/gam)*(Y_hat/Hist_Variance)).clip(None, 1.5);\n",
    "    r1 = Y*w1\n",
    "    CE = np.mean(r1[M+1:])-gam/2*np.var(r1[M+1:], ddof=1)\n",
    "\n",
    "    reg1 = sm.OLS(Y[1:], X[0:len(Y)-1, :], missing='drop').fit()\n",
    "    IS_R2 = reg1.rsquared\n",
    "    print(f\"{variable} IS R^2 = %6.3f\"%(100.0*IS_R2))\n",
    "    print(f\"{variable} OOS R^2 = %6.3f\"%(100.0*OOS_R2))\n",
    "\n",
    "    print(f'{variable} Difference in Certainty Equivalence = %7.4f'%(100*(CE-CE_Hist)))"
   ]
  },
  {
   "cell_type": "markdown",
   "metadata": {},
   "source": [
    "### Kitchen sink Regression $R^2$ and CEV"
   ]
  },
  {
   "cell_type": "code",
   "execution_count": 45,
   "metadata": {},
   "outputs": [
    {
     "name": "stdout",
     "output_type": "stream",
     "text": [
      "Kitchen Sink IS R^2 =  2.675\n",
      "Kitchen Sink OOS R^2 = -12.361\n",
      "Kitchen Sink Difference in Certainty Equivalence = -0.5757\n"
     ]
    }
   ],
   "source": [
    "kitchen_vars = ['svar','dfr','lty','ltr','infl','tbl','dfy','DP','DY','EP','b/m','ntis']\n",
    "\n",
    "Y = np.asarray(df[dep_var])\n",
    "X = np.asarray(df[kitchen_vars])\n",
    "Y_hat = np.full(len(Y), np.nan)\n",
    "X = sm.add_constant(X)\n",
    "\n",
    "for i in range(M+1, len(Y)):\n",
    "    Y1 = Y[1:i]\n",
    "    X1 = X[0:i-1, :]\n",
    "    reg = sm.OLS(Y1, X1, missing='drop').fit()\n",
    "    Y_hat[i] = np.take(reg.predict(X[i-1, :]), 0)\n",
    "\n",
    "OOS_SSE = np.sum((Y[M+1:]-Y_hat[M+1:])**2)\n",
    "OOS_R2 = 1 - OOS_SSE/OOS_SSE_Hist\n",
    "w1 = ((1/gam)*(Y_hat/Hist_Variance)).clip(None, 1.5);\n",
    "r1 = Y*w1\n",
    "CE = np.mean(r1[M+1:])-gam/2*np.var(r1[M+1:], ddof=1)\n",
    "\n",
    "reg1 = sm.OLS(Y[1:], X[0:len(Y)-1, :], missing='drop').fit()\n",
    "IS_R2 = reg1.rsquared\n",
    "print(\"Kitchen Sink IS R^2 = %6.3f\"%(100*IS_R2))\n",
    "print(\"Kitchen Sink OOS R^2 = %6.3f\"%(100*OOS_R2))\n",
    "\n",
    "print('Kitchen Sink Difference in Certainty Equivalence = %7.4f'%(100*(CE-CE_Hist)))\n"
   ]
  },
  {
   "cell_type": "markdown",
   "metadata": {},
   "source": [
    "### Question 2: Forcing the predicted market risk premium to be nonnegative (OOS $R^2$ and $\\Delta CEV$)"
   ]
  },
  {
   "cell_type": "code",
   "execution_count": 46,
   "metadata": {},
   "outputs": [
    {
     "name": "stdout",
     "output_type": "stream",
     "text": [
      "DE OOS R^2 = -0.654\n",
      "DE Difference in Certainty Equivalence =  0.0074\n",
      "svar OOS R^2 = -0.608\n",
      "svar Difference in Certainty Equivalence = -0.0525\n",
      "dfr OOS R^2 = -0.341\n",
      "dfr Difference in Certainty Equivalence = -0.0017\n",
      "lty OOS R^2 = -0.271\n",
      "lty Difference in Certainty Equivalence = -0.0132\n",
      "ltr OOS R^2 = -0.367\n",
      "ltr Difference in Certainty Equivalence =  0.0012\n",
      "infl OOS R^2 = -0.026\n",
      "infl Difference in Certainty Equivalence = -0.0088\n",
      "tms OOS R^2 =  0.050\n",
      "tms Difference in Certainty Equivalence =  0.0425\n",
      "tbl OOS R^2 =  0.240\n",
      "tbl Difference in Certainty Equivalence = -0.0018\n",
      "dfy OOS R^2 = -0.284\n",
      "dfy Difference in Certainty Equivalence = -0.0542\n",
      "DP OOS R^2 = -0.341\n",
      "DP Difference in Certainty Equivalence = -0.0945\n",
      "DY OOS R^2 = -0.973\n",
      "DY Difference in Certainty Equivalence = -0.1013\n",
      "EP OOS R^2 = -1.539\n",
      "EP Difference in Certainty Equivalence = -0.0292\n",
      "b/m OOS R^2 = -2.208\n",
      "b/m Difference in Certainty Equivalence = -0.1710\n",
      "ntis OOS R^2 = -0.721\n",
      "ntis Difference in Certainty Equivalence =  0.0439\n"
     ]
    }
   ],
   "source": [
    "for variable in indep_vars:\n",
    "    Y = np.asarray(df[dep_var])\n",
    "    X = np.asarray(df[variable])\n",
    "    Y_hat = np.full(len(Y), np.nan)\n",
    "    X = sm.add_constant(X)\n",
    "\n",
    "    for i in range(M+1, len(Y)):\n",
    "        Y1 = Y[1:i]\n",
    "        X1 = X[0:i-1, :]\n",
    "        reg = sm.OLS(Y1, X1, missing='drop').fit()\n",
    "        Y_hat[i] = np.take(reg.predict(X[i-1, :]), 0)\n",
    "\n",
    "    OOS_SSE = np.sum((Y[M+1:]-Y_hat[M+1:])**2)\n",
    "    OOS_R2 = 1 - OOS_SSE/OOS_SSE_Hist\n",
    "    w1 = ((1/gam)*(Y_hat/Hist_Variance)).clip(0, 1.5) # Ensuring that weight are nonnegative so we have no short positions \n",
    "    r1 = Y*w1                                         # and we have nonnegative risk premiums\n",
    "    CE = np.mean(r1[M+1:])-gam/2*np.var(r1[M+1:], ddof=1)\n",
    "\n",
    "    reg1 = sm.OLS(Y[1:], X[0:len(Y)-1, :], missing='drop').fit()\n",
    "    IS_R2 = reg1.rsquared\n",
    "    print(f\"{variable} OOS R^2 = %6.3f\"%(100.0*OOS_R2))\n",
    "\n",
    "    print(f'{variable} Difference in Certainty Equivalence = %7.4f'%(100*(CE-CE_Hist)))"
   ]
  },
  {
   "cell_type": "markdown",
   "metadata": {},
   "source": [
    "### Kitchen Sink with Nonnegative Risk Premiums"
   ]
  },
  {
   "cell_type": "code",
   "execution_count": 47,
   "metadata": {},
   "outputs": [
    {
     "name": "stdout",
     "output_type": "stream",
     "text": [
      "Kitchen Sink OOS R^2 = -12.361\n",
      "Kitchen Sink Difference in Certainty Equivalence = -0.0368\n"
     ]
    }
   ],
   "source": [
    "kitchen_vars = ['svar','dfr','lty','ltr','infl','tbl','dfy','DP','DY','EP','b/m','ntis']\n",
    "\n",
    "Y = np.asarray(df[dep_var])\n",
    "X = np.asarray(df[kitchen_vars])\n",
    "Y_hat = np.full(len(Y), np.nan)\n",
    "X = sm.add_constant(X)\n",
    "\n",
    "for i in range(M+1, len(Y)):\n",
    "    Y1 = Y[1:i]\n",
    "    X1 = X[0:i-1, :]\n",
    "    reg = sm.OLS(Y1, X1, missing='drop').fit()\n",
    "    Y_hat[i] = np.take(reg.predict(X[i-1, :]), 0)\n",
    "\n",
    "OOS_SSE = np.sum((Y[M+1:]-Y_hat[M+1:])**2)\n",
    "OOS_R2 = 1 - OOS_SSE/OOS_SSE_Hist\n",
    "w1 = ((1/gam)*(Y_hat/Hist_Variance)).clip(0, 1.5);\n",
    "r1 = Y*w1\n",
    "CE = np.mean(r1[M+1:])-gam/2*np.var(r1[M+1:], ddof=1)\n",
    "\n",
    "reg1 = sm.OLS(Y[1:], X[0:len(Y)-1, :], missing='drop').fit()\n",
    "IS_R2 = reg1.rsquared\n",
    "print(\"Kitchen Sink OOS R^2 = %6.3f\"%(100*OOS_R2))\n",
    "\n",
    "print('Kitchen Sink Difference in Certainty Equivalence = %7.4f'%(100*(CE-CE_Hist)))"
   ]
  },
  {
   "cell_type": "markdown",
   "metadata": {},
   "source": [
    "### Question 3: Create combined forecasts and compute OOS $R^2$ and $\\Delta CEV$"
   ]
  },
  {
   "cell_type": "code",
   "execution_count": null,
   "metadata": {},
   "outputs": [
    {
     "name": "stdout",
     "output_type": "stream",
     "text": [
      "Median Forecast OOS R² =  0.574\n",
      "Median Forecast ∆CEV =  0.0181\n",
      "Mean Forecast OOS R² =  0.609\n",
      "Mean Forecast ∆CEV =  0.0019\n"
     ]
    },
    {
     "name": "stderr",
     "output_type": "stream",
     "text": [
      "/var/folders/qn/tkvk2qlj4rg5hmqc92hjphx40000gn/T/ipykernel_18042/2880313194.py:20: RuntimeWarning: All-NaN slice encountered\n",
      "  median_forecast = np.nanmedian(combined_forecasts, axis=1)\n",
      "/var/folders/qn/tkvk2qlj4rg5hmqc92hjphx40000gn/T/ipykernel_18042/2880313194.py:21: RuntimeWarning: Mean of empty slice\n",
      "  mean_forecast = np.nanmean(combined_forecasts, axis=1)\n"
     ]
    }
   ],
   "source": [
    "# Create data frame to hold all Y hats for each dependent variable\n",
    "forecasts = pd.DataFrame()\n",
    "forecasts[dep_var] = df[dep_var]\n",
    "\n",
    "for variable in indep_vars:\n",
    "    Y = np.asarray(df[dep_var])\n",
    "    X = np.asarray(df[variable])\n",
    "    Y_hat = np.full(len(Y), np.nan)\n",
    "    X = sm.add_constant(X)\n",
    "\n",
    "    for i in range(M+1, len(Y)):\n",
    "        Y1 = Y[1:i]\n",
    "        X1 = X[0:i-1, :]\n",
    "        reg = sm.OLS(Y1, X1, missing='drop').fit()\n",
    "        Y_hat[i] = np.take(reg.predict(X[i-1, :]), 0)\n",
    "    forecasts[variable] = Y_hat\n",
    "forecasts = forecasts.drop(columns=[dep_var])\n",
    "combined_forecasts = np.asarray(forecasts[indep_vars]) # Transform into an array\n",
    "\n",
    "# Calculate the median and mean combination forecasts\n",
    "median_forecast = np.nanmedian(combined_forecasts, axis=1)\n",
    "mean_forecast = np.nanmean(combined_forecasts, axis=1)\n",
    "\n",
    "# Calculate out-of-sample R² and ∆CEV for median forecast\n",
    "OOS_SSE_median = np.sum((Y[M+1:] - median_forecast[M+1:])**2)\n",
    "OOS_R2_median = 1 - OOS_SSE_median / OOS_SSE_Hist\n",
    "w1_median = ((1/gam) * (median_forecast / Hist_Variance)).clip(None, 1.5)\n",
    "r1_median = Y * w1_median\n",
    "CE_median = np.mean(r1_median[M+1:]) - gam/2 * np.var(r1_median[M+1:], ddof=1)\n",
    "\n",
    "# Calculate out-of-sample R² and ∆CEV for mean forecast\n",
    "OOS_SSE_mean = np.sum((Y[M+1:] - mean_forecast[M+1:])**2)\n",
    "OOS_R2_mean = 1 - OOS_SSE_mean / OOS_SSE_Hist\n",
    "w1_mean = ((1/gam) * (mean_forecast / Hist_Variance)).clip(None, 1.5)\n",
    "r1_mean = Y * w1_mean\n",
    "CE_mean = np.mean(r1_mean[M+1:]) - gam/2 * np.var(r1_mean[M+1:], ddof=1)\n",
    "\n",
    "# Print results\n",
    "print(\"Median Forecast OOS R² = %6.3f\" % (100.0 * OOS_R2_median))\n",
    "print(\"Median Forecast ∆CEV = %7.4f\" % (100 * (CE_median - CE_Hist)))\n",
    "\n",
    "print(\"Mean Forecast OOS R² = %6.3f\" % (100.0 * OOS_R2_mean))\n",
    "print(\"Mean Forecast ∆CEV = %7.4f\" % (100 * (CE_mean - CE_Hist)))"
   ]
  }
 ],
 "metadata": {
  "kernelspec": {
   "display_name": "Python 3",
   "language": "python",
   "name": "python3"
  },
  "language_info": {
   "codemirror_mode": {
    "name": "ipython",
    "version": 3
   },
   "file_extension": ".py",
   "mimetype": "text/x-python",
   "name": "python",
   "nbconvert_exporter": "python",
   "pygments_lexer": "ipython3",
   "version": "3.12.2"
  }
 },
 "nbformat": 4,
 "nbformat_minor": 4
}
