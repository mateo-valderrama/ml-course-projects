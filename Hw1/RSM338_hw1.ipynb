{
  "cells": [
    {
      "cell_type": "markdown",
      "metadata": {
        "id": "VSuGNUHK2S0V"
      },
      "source": [
        "### RSM338 Assignment 1\n"
      ]
    },
    {
      "cell_type": "code",
      "execution_count": null,
      "metadata": {
        "id": "RTVr41Sz2S0W"
      },
      "outputs": [],
      "source": [
        "# Import modules\n",
        "!pip install pandas\n",
        "import pandas as pd\n",
        "import numpy as np"
      ]
    },
    {
      "cell_type": "markdown",
      "metadata": {
        "id": "AOOgCH4e2S0X"
      },
      "source": [
        "#### Question 1"
      ]
    },
    {
      "cell_type": "code",
      "execution_count": 136,
      "metadata": {
        "id": "_i8EHS232S0X"
      },
      "outputs": [],
      "source": [
        "# import monthly data\n",
        "monthly = pd.read_csv('./monthly.csv',header=None)\n",
        "date = monthly.iloc[:,0]\n",
        "monthly = monthly.drop(0,axis=1)\n",
        "monthly.columns = ['VW','EW']+['DEC{}'.format(i) for i in range(1, 11)]  # Specify the names of the columns"
      ]
    },
    {
      "cell_type": "code",
      "execution_count": null,
      "metadata": {
        "colab": {
          "base_uri": "https://localhost:8080/",
          "height": 206
        },
        "id": "39wHeVy5Kp4B",
        "outputId": "4d379562-e90c-41c4-bf61-9245d2baaac8"
      },
      "outputs": [],
      "source": [
        "monthly.head()"
      ]
    },
    {
      "cell_type": "markdown",
      "metadata": {
        "id": "kp_j1XW42S0X"
      },
      "source": [
        "### Here is the code for generating some test statistics for the portfolios"
      ]
    },
    {
      "cell_type": "code",
      "execution_count": null,
      "metadata": {
        "colab": {
          "base_uri": "https://localhost:8080/",
          "height": 320
        },
        "id": "T8vub-Dd2S0Y",
        "outputId": "9bec146b-ad0d-4ef3-ef03-3be915b43e62"
      },
      "outputs": [],
      "source": [
        "monthly.describe()"
      ]
    },
    {
      "cell_type": "markdown",
      "metadata": {
        "id": "tg0VQVLMKsNK"
      },
      "source": [
        "#### Question 1b."
      ]
    },
    {
      "cell_type": "markdown",
      "metadata": {
        "id": "wkv-kADFK9kd"
      },
      "source": [
        "Computing the skew and (excess) kurtosis on the monthly returns of the 12 portfolios. Including a test of normality for each coefficient."
      ]
    },
    {
      "cell_type": "code",
      "execution_count": null,
      "metadata": {
        "id": "RRtAnNGcK6fl"
      },
      "outputs": [],
      "source": [
        "# Importing scipy stats library for skewness, kurtosis, and normality test\n",
        "!pip install scipy\n",
        "import scipy.stats as stats"
      ]
    },
    {
      "cell_type": "code",
      "execution_count": null,
      "metadata": {
        "colab": {
          "base_uri": "https://localhost:8080/",
          "height": 426
        },
        "id": "ibKt1cDnNkNz",
        "outputId": "e8acb9b1-3194-4ae4-c857-1a4ea3323fca"
      },
      "outputs": [],
      "source": [
        "# Find the coefficient of skewness for the monthly returns across each column\n",
        "# Normality Test for coefficient by finding z-score and normalizing\n",
        "skewness = monthly.apply(stats.skew)\n",
        "skewness = skewness.to_frame()\n",
        "skewness.rename(columns={0: 'Skewness'}, inplace=True)\n",
        "skewness['Z1'] = skewness['Skewness']/np.sqrt(6/1176)\n",
        "skewness['P-value'] = 1 - skewness['Z1'].apply(stats.norm.cdf)\n",
        "\n",
        "skewness"
      ]
    },
    {
      "cell_type": "markdown",
      "metadata": {
        "id": "uk57pPTc6znt"
      },
      "source": [
        "Both skew and kurtosis have integrated tests for normality within the `scipy` library called `skewtest` and `kurtosistest` respectively.\n",
        "\n",
        "These calculate the z-score and the P-value for each coefficient however I decided to compute them manually and form them into a table."
      ]
    },
    {
      "cell_type": "code",
      "execution_count": null,
      "metadata": {
        "colab": {
          "base_uri": "https://localhost:8080/",
          "height": 426
        },
        "id": "LQ54IuOiQiOU",
        "outputId": "5a026f6e-c9fc-4fe5-8a90-f35649d957b6"
      },
      "outputs": [],
      "source": [
        "# Coefficient of excess kurtosis and a Normality Test\n",
        "kurtosis = monthly.apply(stats.kurtosis)\n",
        "coefficients = kurtosis.to_frame()\n",
        "coefficients.rename(columns={0: 'Kurtosis'}, inplace=True)\n",
        "coefficients['Z2'] = coefficients['Kurtosis']/np.sqrt(24/1176)\n",
        "coefficients['P-value'] = 1 - coefficients['Z2'].apply(stats.norm.cdf)\n",
        "\n",
        "coefficients"
      ]
    },
    {
      "cell_type": "markdown",
      "metadata": {
        "id": "RS1BKWkLbcRV"
      },
      "source": [
        "#### Question 1c."
      ]
    },
    {
      "cell_type": "markdown",
      "metadata": {
        "id": "9fNNIa5PbhU0"
      },
      "source": [
        "Repeat the steps in parts a) and b), but for just January and the rest of the months separately.\n",
        "\n",
        "Group the data by Jan and not Jan."
      ]
    },
    {
      "cell_type": "code",
      "execution_count": null,
      "metadata": {
        "colab": {
          "base_uri": "https://localhost:8080/",
          "height": 206
        },
        "id": "T8d-W48ypz3r",
        "outputId": "8cdc64bf-ef6e-4599-c710-9989d6d1dd7b"
      },
      "outputs": [],
      "source": [
        "# Reimport monthly data and separate date index\n",
        "monthly = pd.read_csv('./monthly.csv',header=None)\n",
        "date = monthly.iloc[:,0]\n",
        "monthly = monthly.drop(0,axis=1) # remove date column\n",
        "monthly.columns = ['VW','EW']+['DEC{}'.format(i) for i in range(1, 11)]  # Specify the names of the columns\n",
        "\n",
        "monthly.head()"
      ]
    },
    {
      "cell_type": "code",
      "execution_count": null,
      "metadata": {
        "colab": {
          "base_uri": "https://localhost:8080/",
          "height": 206
        },
        "id": "e2qwFiAEQx0q",
        "outputId": "9ea5b76d-888a-4cb6-9d2c-30f37b150af1"
      },
      "outputs": [],
      "source": [
        "date = pd.to_datetime(date, format='%Y%m%d')\n",
        "\n",
        "monthly.head()"
      ]
    },
    {
      "cell_type": "code",
      "execution_count": null,
      "metadata": {
        "colab": {
          "base_uri": "https://localhost:8080/",
          "height": 344
        },
        "id": "1isVu_MdzX-5",
        "outputId": "36d4bcbe-6d10-45f1-fea0-bfc3341464ae"
      },
      "outputs": [],
      "source": [
        "# Turn date Series into DateTime index for monthly df\n",
        "date = pd.to_datetime(date, format='%Y%m%d')\n",
        "monthly.index = date\n",
        "\n",
        "monthly.head()"
      ]
    },
    {
      "cell_type": "code",
      "execution_count": null,
      "metadata": {
        "colab": {
          "base_uri": "https://localhost:8080/",
          "height": 226
        },
        "id": "Edhn6J9B0bh0",
        "outputId": "d5f01fe8-7a3c-4c8d-f391-3327bb19aa1d"
      },
      "outputs": [],
      "source": [
        "# Create columns that identify year, month, day for each row\n",
        "monthly['month'] = monthly.index.month\n",
        "monthly = monthly.reset_index(drop=True)\n",
        "\n",
        "monthly.head()"
      ]
    },
    {
      "cell_type": "code",
      "execution_count": 146,
      "metadata": {
        "colab": {
          "base_uri": "https://localhost:8080/",
          "height": 538
        },
        "id": "HasGOCY31PKB",
        "outputId": "cfdd1fd7-15f2-4e9f-abf5-0d6ef1866dbf"
      },
      "outputs": [],
      "source": [
        "# Separate the January Data from the rest of the data\n",
        "columns = ['VW','EW']+['DEC{}'.format(i) for i in range(1, 11)]\n",
        "\n",
        "jan_data = monthly[monthly['month'] == 1].drop(columns='month')\n",
        "non_jan_data = monthly[monthly['month'] != 1].drop(columns='month')\n"
      ]
    },
    {
      "cell_type": "code",
      "execution_count": null,
      "metadata": {},
      "outputs": [],
      "source": [
        "# Compute test statistics for both Jan and non Jan data\n",
        "print(\"January Test Statistics\")\n",
        "print(jan_data.describe())\n",
        "\n",
        "# Non Jan data\n",
        "print(\"Non January Test Statistics\")\n",
        "print(non_jan_data.describe()) "
      ]
    },
    {
      "cell_type": "markdown",
      "metadata": {
        "id": "LJxyB93W6Jbo"
      },
      "source": [
        "Repeating part b) of the question incorporating `scipy.stats` to find skewness and kurtosis for each of the 12 months\n"
      ]
    },
    {
      "cell_type": "code",
      "execution_count": null,
      "metadata": {
        "colab": {
          "base_uri": "https://localhost:8080/",
          "height": 477
        },
        "id": "VrDftMIb3PMR",
        "outputId": "cd4e34d7-882f-49e0-de6a-e79ca01dab26"
      },
      "outputs": [],
      "source": [
        "import scipy.stats as stats\n",
        "# Finding the coefficients and the normality tests as done above\n",
        "jan_skewness = jan_data.apply(stats.skew)\n",
        "print(\"January Skewness Coefficients\")\n",
        "print(jan_skewness)\n",
        "\n",
        "# Conduct Normality Test\n",
        "jan_normality_skew = jan_data.apply(stats.skewtest)\n",
        "print('January Skewness Tests')\n",
        "for column, row in jan_normality_skew.items():\n",
        "    test, pvalue = row\n",
        "    print(f\"{column}: Z-score = {test: 4f}, P-value = {pvalue: 4f}\")\n"
      ]
    },
    {
      "cell_type": "code",
      "execution_count": null,
      "metadata": {},
      "outputs": [],
      "source": [
        "# Compute the same for non Jan skewness\n",
        "non_jan_skewness = non_jan_data.apply(stats.skew)\n",
        "print(\"Non January Skewness Coefficients\")\n",
        "print(non_jan_skewness)\n",
        "\n",
        "# Conduct Normality Test\n",
        "non_jan_normality_skew = non_jan_data.apply(stats.skewtest)\n",
        "print('Non January Skewness Tests')\n",
        "for column, row in non_jan_normality_skew.items():\n",
        "    test, pvalue = row\n",
        "    print(f\"{column}: Z-score = {test: 4f}, P-value = {pvalue: 4f}\")"
      ]
    },
    {
      "cell_type": "markdown",
      "metadata": {},
      "source": [
        "##### Compute the kurtosis for both slices of the data"
      ]
    },
    {
      "cell_type": "code",
      "execution_count": null,
      "metadata": {
        "colab": {
          "base_uri": "https://localhost:8080/",
          "height": 746
        },
        "id": "XW-ritSqbh4X",
        "outputId": "ddaddd05-420e-4e94-97b4-e99fa36df49c"
      },
      "outputs": [],
      "source": [
        "jan_kurtosis = jan_data.apply(stats.kurtosis)\n",
        "print('Jan Kurtosis Coefficients and Normality Tests')\n",
        "\n",
        "# Normality tests for Kurtosis\n",
        "jan_coefficients = jan_kurtosis.to_frame()\n",
        "jan_coefficients.rename(columns={0: 'Excess Kurtosis'}, inplace=True)\n",
        "jan_coefficients['Z2'] = jan_coefficients['Excess Kurtosis']/np.sqrt(24/98)\n",
        "jan_coefficients['P-value'] = 1 - jan_coefficients['Z2'].apply(stats.norm.cdf)\n",
        "\n",
        "print(jan_coefficients)\n"
      ]
    },
    {
      "cell_type": "code",
      "execution_count": null,
      "metadata": {
        "colab": {
          "base_uri": "https://localhost:8080/",
          "height": 477
        },
        "id": "hD_-cVOOgwE6",
        "outputId": "6b61775a-e443-4ac2-ad4d-162b7c3235ee"
      },
      "outputs": [],
      "source": [
        "# Coefficients for Non Jan data\n",
        "non_jan_kurtosis = non_jan_data.apply(stats.kurtosis)\n",
        "print(\"Non Jan Kurtosis Coefficients and Normality Tests\")\n",
        "\n",
        "# Normality Tests\n",
        "non_jan_coefficients = non_jan_kurtosis.to_frame()\n",
        "non_jan_coefficients.rename(columns={0: 'Excess Kurtosis'}, inplace=True)\n",
        "non_jan_coefficients['Z2'] = non_jan_coefficients['Excess Kurtosis']/np.sqrt(24/1078)\n",
        "non_jan_coefficients['P-value'] = 1 - non_jan_coefficients['Z2'].apply(stats.norm.cdf)\n",
        "\n",
        "print(non_jan_coefficients)\n"
      ]
    },
    {
      "cell_type": "markdown",
      "metadata": {
        "id": "lLe6aUzY2S0Y"
      },
      "source": [
        "#### Question 2"
      ]
    },
    {
      "cell_type": "code",
      "execution_count": 152,
      "metadata": {
        "id": "dhfooICc2S0Y"
      },
      "outputs": [],
      "source": [
        "import datetime"
      ]
    },
    {
      "cell_type": "code",
      "execution_count": 153,
      "metadata": {
        "id": "pv_FogUl2S0Y"
      },
      "outputs": [],
      "source": [
        "# Input the data\n",
        "daily = pd.read_csv('./daily.csv',header=None)\n",
        "\n",
        "# change column names\n",
        "daily.columns = ['date', 'value-weighted', 'equal-weighted']\n",
        "\n",
        "# convert date into datetime object\n",
        "daily['date'] = pd.to_datetime(daily['date'], format='%Y%m%d') # http://strftime.org/\n",
        "\n",
        "### create variable weekday that represents the day in the date column\n",
        "### (NOTE: python count starts at 0)\n",
        "weekday = daily['date'].dt.dayofweek\n",
        "week_label = ['Monday','Tuesday','Wednesday','Thursday','Friday', 'Saturday']"
      ]
    },
    {
      "cell_type": "code",
      "execution_count": null,
      "metadata": {
        "colab": {
          "base_uri": "https://localhost:8080/",
          "height": 398
        },
        "id": "XwGQH0hN2S0Z",
        "outputId": "d88ad952-4408-418d-c31d-e379afb6023a"
      },
      "outputs": [],
      "source": [
        "# Mapping the week_labels to weekday Series\n",
        "weekday = weekday.map(lambda x: week_label[x])\n",
        "weekday.head(10)\n"
      ]
    },
    {
      "cell_type": "code",
      "execution_count": null,
      "metadata": {
        "colab": {
          "base_uri": "https://localhost:8080/",
          "height": 586
        },
        "id": "YvNEvO5ekbdz",
        "outputId": "79982429-6d4c-43f1-ce73-5b6752ab2385"
      },
      "outputs": [],
      "source": [
        "# Create a column for the weekday names for easier indexing\n",
        "daily['weekday'] = weekday\n",
        "\n",
        "#Filtering for wednesdays and finding the missing wednesdays\n",
        "wednesdays = daily[daily['weekday'] == 'Wednesday']\n",
        "week_after_missing = wednesdays.loc[wednesdays['date'] - wednesdays['date'].shift(1) > datetime.timedelta(days=7)]\n",
        "missing_week = week_after_missing['date'] - datetime.timedelta(days=7)\n",
        "\n",
        "# Get potential next dates (Thursday or Tuesday)\n",
        "next_thurs = missing_week + datetime.timedelta(days=1)\n",
        "next_tues = missing_week - datetime.timedelta(days=1)\n",
        "\n",
        "missing_week"
      ]
    },
    {
      "cell_type": "markdown",
      "metadata": {},
      "source": [
        "##### Use the data with the missing weeks to find which Tuesdays and Thursdays, from the weeks that have no data for Wednesday, exist in the daily.csv file.\n",
        "\n",
        "##### Create a series so that we can use this as a boolean mask to index daily"
      ]
    },
    {
      "cell_type": "code",
      "execution_count": null,
      "metadata": {
        "colab": {
          "base_uri": "https://localhost:8080/",
          "height": 216
        },
        "id": "Lfequz744B7U",
        "outputId": "3f4920b0-fff3-4d3c-f66c-b07e775ec605"
      },
      "outputs": [],
      "source": [
        "# Finding the Thursdays that exist in the daily.csv \n",
        "thursdays = daily.loc[daily['date'].isin(missing_week + datetime.timedelta(days=1))]\n",
        "\n",
        "# Using the exisiting Thursdays to find which weeks we still need to find\n",
        "missing_thursdays = next_thurs.loc[~(next_thurs.isin(thursdays['date']))]\n",
        "# Find the Tuesdays that we need based of the missing Thursdays\n",
        "needed_tuesdays = missing_thursdays - datetime.timedelta(days=2)\n",
        "\n",
        "# Create a slice of the dataframe that includes each Wednesday, including the Thursdays or Tuesdays for missing weeks\n",
        "weekly = daily[(daily['date'].isin(wednesdays['date']))|(daily['date'].isin(thursdays['date']))|(daily['date'].isin(needed_tuesdays))]\n",
        "\n",
        "weekly['vw_return'] = ((1 + weekly['value-weighted'])/(1+ weekly['value-weighted'].shift(1)) - 1)  # Creating the value-weighted weekly returns\n",
        "weekly['ew_return'] = ((1 + weekly['equal-weighted'])/(1 + weekly['equal-weighted'].shift(1)) - 1)  # Creating the equal-weighted weekly returns\n",
        "weekly = weekly.drop(columns=['value-weighted', 'equal-weighted'])\n",
        "weekly.head()\n"
      ]
    },
    {
      "cell_type": "markdown",
      "metadata": {},
      "source": [
        "### Question 2 Part B - Computing test statistics"
      ]
    },
    {
      "cell_type": "code",
      "execution_count": null,
      "metadata": {
        "id": "IbC8t8X28Bwy"
      },
      "outputs": [],
      "source": [
        "weekly.describe().drop(columns=['date'])"
      ]
    },
    {
      "cell_type": "markdown",
      "metadata": {},
      "source": [
        "### Question 2 Part C - Skew, Kurtosis and Normality Tests"
      ]
    },
    {
      "cell_type": "code",
      "execution_count": null,
      "metadata": {},
      "outputs": [],
      "source": [
        "portfolios = weekly.drop(columns=['date', 'weekday'])\n",
        "# Dropping the 'date' and 'weekday' column and first NaN value so that we can run stats.skew\n",
        "weekly_nonan = portfolios.dropna()\n",
        "\n",
        "# Creating Coefficients\n",
        "coefficients = weekly_nonan.apply(stats.skew)\n",
        "\n",
        "# Create the DataFrame\n",
        "skew_coef = coefficients.to_frame()\n",
        "skew_coef.rename(columns={0: 'Skewness'}, inplace=True)\n"
      ]
    },
    {
      "cell_type": "code",
      "execution_count": null,
      "metadata": {},
      "outputs": [],
      "source": [
        "# Skew Coefficients\n",
        "print('Weekly Returns Skewness Coefficients')\n",
        "print(skew_coef)\n",
        "\n",
        "# Conducting Normality Tests\n",
        "skew_normality = weekly_nonan.apply(stats.skewtest)\n",
        "print(\"Weekly Returns Skewness Normality Tests\")\n",
        "for column, row in skew_normality.items():\n",
        "    test, pvalue = row\n",
        "    print(f\"{column}: Z-score = {test: 4f}, P-value = {pvalue: 4f}\")"
      ]
    },
    {
      "cell_type": "code",
      "execution_count": null,
      "metadata": {},
      "outputs": [],
      "source": [
        "# Create kurtosis coefficients\n",
        "coefficients = weekly_nonan.apply(stats.kurtosis)\n",
        "kurt_coeff = coefficients.to_frame()\n",
        "kurt_coeff.rename(columns={0: 'Excess Kurtosis'}, inplace = True)\n",
        "\n",
        "# Calculate the z2 and P-value columns for Normality test\n",
        "kurt_coeff['z2'] = kurt_coeff['Excess Kurtosis']/np.sqrt(24/5077)\n",
        "kurt_coeff['P-value'] = 1 - kurt_coeff['z2'].apply(stats.norm.cdf) # One tailed test to find P-value\n",
        "\n",
        "print('Weekly Return Kurtosis Coefficients and Normality Test')\n",
        "print(kurt_coeff)"
      ]
    }
  ],
  "metadata": {
    "colab": {
      "provenance": []
    },
    "kernelspec": {
      "display_name": "Python 3",
      "language": "python",
      "name": "python3"
    },
    "language_info": {
      "codemirror_mode": {
        "name": "ipython",
        "version": 3
      },
      "file_extension": ".py",
      "mimetype": "text/x-python",
      "name": "python",
      "nbconvert_exporter": "python",
      "pygments_lexer": "ipython3",
      "version": "3.12.2"
    }
  },
  "nbformat": 4,
  "nbformat_minor": 0
}
